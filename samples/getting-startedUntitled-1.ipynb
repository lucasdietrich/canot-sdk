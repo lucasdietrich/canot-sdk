{
 "cells": [
  {
   "cell_type": "markdown",
   "metadata": {},
   "source": [
    "# Getting started with CANIOT Python SDK"
   ]
  },
  {
   "cell_type": "code",
   "execution_count": 4,
   "metadata": {},
   "outputs": [
    {
     "name": "stderr",
     "output_type": "stream",
     "text": [
      "INFO:caniot.controller:[0.026 s] GET http://192.0.2.1:80/ha/stats status=200 len=457\n"
     ]
    },
    {
     "data": {
      "text/plain": [
       "{'ev': 5,\n",
       " 'dev_dropped': 0,\n",
       " 'dev_no_mem': 0,\n",
       " 'dev_no_api': 0,\n",
       " 'dev_ep_init': 0,\n",
       " 'dev_no_ep': 0,\n",
       " 'dev_toomuch_ep': 0,\n",
       " 'ev_dropped': 164578,\n",
       " 'ev_data_dropped': 164578,\n",
       " 'ev_cmd_dropped': 0,\n",
       " 'ev_no_mem': 0,\n",
       " 'ev_no_ep': 112048,\n",
       " 'ev_ep': 52530,\n",
       " 'ev_payload_size': 0,\n",
       " 'ev_no_data_mem': 0,\n",
       " 'ev_ingest': 0,\n",
       " 'ev_never_ref': 0,\n",
       " 'mem_ev_count': 49,\n",
       " 'mem_ev_remaining': 79,\n",
       " 'mem_device_count': 48,\n",
       " 'mem_device_remaining': 55,\n",
       " 'mem_sub_count': 4,\n",
       " 'mem_sub_remaining': 4,\n",
       " 'mem_heap_alloc': 952,\n",
       " 'mem_heap_total': 2358272}"
      ]
     },
     "execution_count": 4,
     "metadata": {},
     "output_type": "execute_result"
    }
   ],
   "source": [
    "from caniot.controller import Controller\n",
    "from pprint import pprint\n",
    "\n",
    "ctrl = Controller(\"192.0.2.1\")\n",
    "\n",
    "ctrl.get_ha_stats()"
   ]
  }
 ],
 "metadata": {
  "kernelspec": {
   "display_name": "Python 3.8.14 ('.venv')",
   "language": "python",
   "name": "python3"
  },
  "language_info": {
   "codemirror_mode": {
    "name": "ipython",
    "version": 3
   },
   "file_extension": ".py",
   "mimetype": "text/x-python",
   "name": "python",
   "nbconvert_exporter": "python",
   "pygments_lexer": "ipython3",
   "version": "3.8.14"
  },
  "orig_nbformat": 4,
  "vscode": {
   "interpreter": {
    "hash": "8c400e2049b7e1efd9cc649d28040c0432b533af6dd9beb10865f51306fe7b05"
   }
  }
 },
 "nbformat": 4,
 "nbformat_minor": 2
}
